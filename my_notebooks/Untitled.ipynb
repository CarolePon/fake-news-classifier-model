{
 "cells": [
  {
   "cell_type": "code",
   "execution_count": null,
   "id": "155a8d27-d390-42c9-89bf-a528adb535ab",
   "metadata": {},
   "outputs": [],
   "source": []
  }
 ],
 "metadata": {
  "kernelspec": {
   "display_name": "",
   "name": ""
  },
  "language_info": {
   "name": ""
  }
 },
 "nbformat": 4,
 "nbformat_minor": 5
}
